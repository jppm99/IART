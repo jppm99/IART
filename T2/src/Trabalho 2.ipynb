{
 "cells": [
  {
   "cell_type": "markdown",
   "metadata": {},
   "source": [
    "# Inteligência Artificial - Trabalho Nº2 - Aprendizagem Computacional\n",
    "\n",
    "### Temática 4: Aprendizagem Supervisionada – Regressão - European Soccer Database"
   ]
  },
  {
   "cell_type": "markdown",
   "metadata": {},
   "source": [
    "## Autores:\n",
    "\n",
    "* João Brandão - up201705573@fe.up.pt\n",
    "* João Martins - up201605373@fe.up.pt\n",
    "* José Martins - up201605497@fe.up.pt\n",
    "\n",
    "FEUP 2019/2020"
   ]
  },
  {
   "cell_type": "markdown",
   "metadata": {},
   "source": [
    "## Resumo\n",
    "\n",
    "Este projeto foi desenvolvido no âmbito da unidade curricular de Inteligência Artificial da Faculdade de Engenharia da Universidade do Porto e tem como objetivo usar aprendizagem computacional de forma a construir modelos de regressão. Para tal, foram utilizados algoritmos de aprendizagem supervisionada e um dado dataset, o European Soccer Database. Este dataset conta com mais de 26 mil jogos e aproximadamente 11 mil jogadores.\n",
    "O projeto foi concluído com sucesso, sendo que todo o seu desenvolvimento, resultados obtidos e conclusões, serão expostos neste notebook."
   ]
  },
  {
   "cell_type": "markdown",
   "metadata": {},
   "source": [
    "## 1. Introdução\n",
    "\n",
    "O projeto realizado consiste na criação de um agente inteligente capaz de prever as “odds” de jogos de futebol. Para isso, inicialmente, foi realizada uma análise exploratória dos dados disponíveis sobre os jogadores e encontros realizados. Além disso, implementamos diferentes algoritmos de aprendizagem e posteriormente comparamos os seus desempenhos e tempo despendido para efetuar os testes.\n",
    "Posto isto, o agente inteligente criado poderá ser utilizado para prever as “odds” da equipa da casa, da equipa visitante e de empate em qualquer jogo de futebol."
   ]
  },
  {
   "cell_type": "markdown",
   "metadata": {},
   "source": [
    "## 2. Referências\n",
    "\n",
    "* https://github.com/nanazhu/DataMining-Football-Match-Prediction\n",
    "* https://github.com/danleh/predict-euro2016\n",
    "* https://github.com/yanuehara/ai-soccer-prediction"
   ]
  },
  {
   "cell_type": "markdown",
   "metadata": {},
   "source": [
    "## 3. Algoritmos e ferramentas\n",
    "\n",
    "Com a ajuda de algumas ferramentas, como o Jupyter, Scikit-learn, NumPy e Pandas, foram implementados quatro algoritmos:\n",
    "+ Árvore de decisão\n",
    "+ Redes neuronais\n",
    "+ K-Nearest Neighbor\n",
    "+ Support Vector Machines\n",
    "\n",
    "Posteriormente, comparamos o desempenho destes algoritmos, tendo em conta os erros obtidos no processo de aprendizagem, a qualidade de previsão e o tempo necessário para a realização do treino e do teste.\n",
    "Além disso, comparamos também os resultados obtidos pelos diferentes algoritmos, através de tabelas e gráficos. Para isso, usamos duas bibliotecas de visualização de dados, o Seaborn e o Matplotlib."
   ]
  },
  {
   "cell_type": "markdown",
   "metadata": {},
   "source": [
    "## 4. Abordagem\n",
    "\n",
    "Inicialmente foi criado um novo dataset que possui informação sobre milhares de jogos de futebol, incluindo:\n",
    "* O rating médio do 11 inicial de cada equipa, sendo o rating de cada jogador o mais recente à data do jogo, fornecido pelo videojogo FIFA.\n",
    "* A forma de cada equipa, tendo em conta os últimos 5 jogos.\n",
    "* A forma da equipa da casa em casa, tendo em conta os últimos 5 jogos em casa.\n",
    "* A forma da equipa visitante em jogos fora, tendo em conta os últimos jogos fora.\n",
    "* As odds da equipa da casa, da equipa visitante e de empate, fornecidas pelo Bet365\n",
    "\n",
    "Após a criação deste dataset, construímos modelos de regressão que usam os dados indicados pelos primeiros 4 pontos para obter os dados indicados pelo 5º ponto, as odds do jogo."
   ]
  },
  {
   "cell_type": "markdown",
   "metadata": {},
   "source": [
    "### Imports \n",
    "\n",
    "Começamos por fazer os imports necessários para a realização este projeto"
   ]
  },
  {
   "cell_type": "code",
   "execution_count": 1,
   "metadata": {},
   "outputs": [],
   "source": [
    "import sqlite3\n",
    "import pandas as pd\n",
    "import matplotlib.pyplot as plt\n",
    "import seaborn as sb\n",
    "from sklearn.model_selection import train_test_split\n",
    "from sklearn.tree import DecisionTreeRegressor\n",
    "from sklearn.neural_network import MLPRegressor\n",
    "from sklearn.neighbors import KNeighborsRegressor\n",
    "from sklearn.svm import SVR\n",
    "\n",
    "pd.set_option('display.max_columns', None)\n",
    "%matplotlib inline"
   ]
  },
  {
   "cell_type": "markdown",
   "metadata": {},
   "source": [
    "### Database\n",
    "\n",
    "De seguida carregamos a database e criamos duas funções para recolher dados de uma tabela como um dataframe"
   ]
  },
  {
   "cell_type": "code",
   "execution_count": 2,
   "metadata": {},
   "outputs": [],
   "source": [
    "db_location = \"../Data/soccer/database.sqlite\"\n",
    "\n",
    "# Create dictionary\n",
    "def dict_factory(cursor, row):\n",
    "    d = {}\n",
    "    for idx, col in enumerate(cursor.description):\n",
    "        d[col[0]] = row[idx]\n",
    "    return d\n",
    "\n",
    "\n",
    "# Get dataframe with the given table\n",
    "def get_table_as_pd_dataframe(table_name):\n",
    "    query = 'SELECT * FROM ' + table_name + ';'\n",
    "\n",
    "    con = sqlite3.connect(db_location)\n",
    "    con.row_factory = dict_factory\n",
    "    cur = con.cursor()\n",
    "\n",
    "    cur.execute(query)\n",
    "    table = cur.fetchall()\n",
    "\n",
    "    con.close()\n",
    "\n",
    "    return pd.DataFrame(table)"
   ]
  },
  {
   "cell_type": "code",
   "execution_count": null,
   "metadata": {},
   "outputs": [],
   "source": []
  }
 ],
 "metadata": {
  "kernelspec": {
   "display_name": "Python 3",
   "language": "python",
   "name": "python3"
  },
  "language_info": {
   "codemirror_mode": {
    "name": "ipython",
    "version": 3
   },
   "file_extension": ".py",
   "mimetype": "text/x-python",
   "name": "python",
   "nbconvert_exporter": "python",
   "pygments_lexer": "ipython3",
   "version": "3.6.9"
  }
 },
 "nbformat": 4,
 "nbformat_minor": 4
}
